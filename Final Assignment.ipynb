{
  "cells": [
    {
      "cell_type": "markdown",
      "metadata": {
        "id": "view-in-github",
        "colab_type": "text"
      },
      "source": [
        "<a href=\"https://colab.research.google.com/github/Parisaroozgarian/NLTK-Corpora-Analysis/blob/main/Final%20Assignment.ipynb\" target=\"_parent\"><img src=\"https://colab.research.google.com/assets/colab-badge.svg\" alt=\"Open In Colab\"/></a>"
      ]
    },
    {
      "cell_type": "markdown",
      "id": "ee435188-3369-4f86-ab91-685f5bd01342",
      "metadata": {
        "id": "ee435188-3369-4f86-ab91-685f5bd01342"
      },
      "source": [
        "# Assignment2: NLTK Corpora Analysis\n",
        "\n",
        "## Objective\n",
        "\n",
        "Use the NLTK library to open a corpus and perform different types of analysis.\n",
        "\n",
        "## Instructions\n",
        "\n",
        "Complete the following tasks. Make sure to write clean, commented, and well-structured code for each task. Non-commented code will be penalized. Submit your jupyter notebook file as YOURNAME_SURNAME_assignment3.ipynb\n",
        "\n",
        "## Overview\n",
        "\n",
        "1. **Subtask 1: Install and Import NLTK**\n",
        "2. **Subtask 2: Sentence and Word Tokenization**\n",
        "3. **Subtask 3: Bigrams, Trigrams, and POS Tagging**\n",
        "4. **Subtask 4: Stemming, Lemmatization, and Frequency Distribution**"
      ]
    },
    {
      "cell_type": "markdown",
      "id": "cc0eed3d-3d4f-415f-931a-79df10038a49",
      "metadata": {
        "id": "cc0eed3d-3d4f-415f-931a-79df10038a49"
      },
      "source": [
        "### Let's Start"
      ]
    },
    {
      "cell_type": "markdown",
      "id": "074bc3f4-e80f-4769-a699-341363637a2a",
      "metadata": {
        "id": "074bc3f4-e80f-4769-a699-341363637a2a"
      },
      "source": [
        "### Run the following cell for defining the variable Text."
      ]
    },
    {
      "cell_type": "markdown",
      "id": "7e06a4b6-f586-40ab-a4f4-2f104903ca52",
      "metadata": {
        "id": "7e06a4b6-f586-40ab-a4f4-2f104903ca52"
      },
      "source": [
        "# Subtask 1: Install and Import NLTK\n",
        "**Instructions:**\n",
        "1. Install the NLTK library if you haven't already.\n",
        "2. Import the necessary modules from NLTK.\n",
        "3. Download the required NLTK data files to complete the next subtasks."
      ]
    },
    {
      "cell_type": "code",
      "id": "e1782efa-ff65-43ff-b484-48875db5be75",
      "metadata": {
        "ExecuteTime": {
          "end_time": "2024-07-13T22:26:26.174657Z",
          "start_time": "2024-07-13T22:26:20.012974Z"
        },
        "colab": {
          "base_uri": "https://localhost:8080/"
        },
        "id": "e1782efa-ff65-43ff-b484-48875db5be75",
        "outputId": "96cc9560-5e92-42d2-ae75-de0bb719b8b5"
      },
      "source": [
        "#1.\n",
        "!pip install nltk\n",
        "\n",
        "#2.\n",
        "import nltk\n",
        "from nltk.corpus import gutenberg\n",
        "from nltk.tokenize import sent_tokenize, word_tokenize\n",
        "from nltk.util import ngrams\n",
        "from nltk import pos_tag\n",
        "from nltk.stem import PorterStemmer, WordNetLemmatizer\n",
        "from nltk.probability import FreqDist\n",
        "import matplotlib.pyplot as plt\n",
        "\n",
        "\n",
        "#3.\n",
        "nltk.download('gutenberg')\n",
        "nltk.download('punkt')\n",
        "nltk.download('averaged_perceptron_tagger')\n",
        "nltk.download('wordnet')\n",
        "\n",
        "\n",
        "\n",
        "\n"
      ],
      "outputs": [
        {
          "output_type": "stream",
          "name": "stdout",
          "text": [
            "Requirement already satisfied: nltk in /usr/local/lib/python3.10/dist-packages (3.8.1)\n",
            "Requirement already satisfied: click in /usr/local/lib/python3.10/dist-packages (from nltk) (8.1.7)\n",
            "Requirement already satisfied: joblib in /usr/local/lib/python3.10/dist-packages (from nltk) (1.4.2)\n",
            "Requirement already satisfied: regex>=2021.8.3 in /usr/local/lib/python3.10/dist-packages (from nltk) (2024.5.15)\n",
            "Requirement already satisfied: tqdm in /usr/local/lib/python3.10/dist-packages (from nltk) (4.66.4)\n"
          ]
        },
        {
          "output_type": "stream",
          "name": "stderr",
          "text": [
            "[nltk_data] Downloading package gutenberg to /root/nltk_data...\n",
            "[nltk_data]   Package gutenberg is already up-to-date!\n",
            "[nltk_data] Downloading package punkt to /root/nltk_data...\n",
            "[nltk_data]   Package punkt is already up-to-date!\n",
            "[nltk_data] Downloading package averaged_perceptron_tagger to\n",
            "[nltk_data]     /root/nltk_data...\n",
            "[nltk_data]   Package averaged_perceptron_tagger is already up-to-\n",
            "[nltk_data]       date!\n",
            "[nltk_data] Downloading package wordnet to /root/nltk_data...\n",
            "[nltk_data]   Package wordnet is already up-to-date!\n"
          ]
        },
        {
          "output_type": "execute_result",
          "data": {
            "text/plain": [
              "True"
            ]
          },
          "metadata": {},
          "execution_count": 7
        }
      ],
      "execution_count": 7
    },
    {
      "cell_type": "markdown",
      "id": "1158d5b8-14f1-415b-98b0-997ede95e566",
      "metadata": {
        "id": "1158d5b8-14f1-415b-98b0-997ede95e566"
      },
      "source": [
        "# Subtask 2: Sentence and Word Tokenization\n",
        "**Instructions:**\n",
        "1. Open the Gutenberg corpus.\n",
        "2. Choose a specific file (e.g., 'austen-emma.txt') and tokenize it into sentences.\n",
        "3. Print the total number of sentences and the first sentence.\n",
        "4. Tokenize the text into words and print the tokens."
      ]
    },
    {
      "cell_type": "code",
      "id": "f33dbeab-af48-4e31-a57a-b06c52a77148",
      "metadata": {
        "jupyter": {
          "is_executing": true
        },
        "colab": {
          "base_uri": "https://localhost:8080/"
        },
        "id": "f33dbeab-af48-4e31-a57a-b06c52a77148",
        "outputId": "1f9a19e5-f77f-4b9a-b7af-4da66790f9ea"
      },
      "source": [
        "#1.\n",
        "file_id = 'austen-emma.txt'\n",
        "\n",
        "#2.\n",
        "text = gutenberg.raw(file_id)\n",
        "sentences = sent_tokenize(text)\n",
        "\n",
        "#3.\n",
        "print(f\"Total number of sentences: {len(sentences)}\")\n",
        "print(f\"1st sentence: {sentences[0]}\")\n",
        "\n",
        "#4\n",
        "words = word_tokenize(text)\n",
        "print(f\"Word tokens: {words[:20]}\")\n",
        "\n"
      ],
      "outputs": [
        {
          "output_type": "stream",
          "name": "stdout",
          "text": [
            "Total number of sentences: 7493\n",
            "1st sentence: [Emma by Jane Austen 1816]\n",
            "\n",
            "VOLUME I\n",
            "\n",
            "CHAPTER I\n",
            "\n",
            "\n",
            "Emma Woodhouse, handsome, clever, and rich, with a comfortable home\n",
            "and happy disposition, seemed to unite some of the best blessings\n",
            "of existence; and had lived nearly twenty-one years in the world\n",
            "with very little to distress or vex her.\n",
            "Word tokens: ['[', 'Emma', 'by', 'Jane', 'Austen', '1816', ']', 'VOLUME', 'I', 'CHAPTER', 'I', 'Emma', 'Woodhouse', ',', 'handsome', ',', 'clever', ',', 'and', 'rich']\n"
          ]
        }
      ],
      "execution_count": 8
    },
    {
      "cell_type": "markdown",
      "id": "1c73e23d-2895-4c05-bf6a-284bb2cc4877",
      "metadata": {
        "id": "1c73e23d-2895-4c05-bf6a-284bb2cc4877"
      },
      "source": [
        "# Subtask 3: Bigrams, Trigrams, and POS Tagging\n",
        "**Instructions:**\n",
        "1. Generate bigrams and trigrams from the word tokens and print the first 10 of each.\n",
        "2. Perform POS tagging on the word tokens and print the first 10 tokens with their POS tags."
      ]
    },
    {
      "cell_type": "code",
      "id": "787cc101-7042-46cc-a4d5-87c59f2e7936",
      "metadata": {
        "ExecuteTime": {
          "end_time": "2024-07-13T22:26:15.909954Z",
          "start_time": "2024-07-13T22:26:15.635621Z"
        },
        "colab": {
          "base_uri": "https://localhost:8080/"
        },
        "id": "787cc101-7042-46cc-a4d5-87c59f2e7936",
        "outputId": "370e5fb9-a750-4992-c6f1-5fdbceec5336"
      },
      "source": [
        "\n",
        "\n",
        "#1.\n",
        "bigrams = list(ngrams(words, 2))\n",
        "trigrams = list(ngrams(words, 3))\n",
        "print(f\"First 10 bigrams: {bigrams[:10]}\")\n",
        "print(f\"First 10 trigrams: {trigrams[:10]}\")\n",
        "\n",
        "#2.\n",
        "pos_tags = pos_tag(words)\n",
        "print(f\"First 10 POS tags: {pos_tags[:10]}\")\n",
        "\n"
      ],
      "outputs": [
        {
          "output_type": "stream",
          "name": "stdout",
          "text": [
            "First 10 bigrams: [('[', 'Emma'), ('Emma', 'by'), ('by', 'Jane'), ('Jane', 'Austen'), ('Austen', '1816'), ('1816', ']'), (']', 'VOLUME'), ('VOLUME', 'I'), ('I', 'CHAPTER'), ('CHAPTER', 'I')]\n",
            "First 10 trigrams: [('[', 'Emma', 'by'), ('Emma', 'by', 'Jane'), ('by', 'Jane', 'Austen'), ('Jane', 'Austen', '1816'), ('Austen', '1816', ']'), ('1816', ']', 'VOLUME'), (']', 'VOLUME', 'I'), ('VOLUME', 'I', 'CHAPTER'), ('I', 'CHAPTER', 'I'), ('CHAPTER', 'I', 'Emma')]\n",
            "First 10 POS tags: [('[', 'NNS'), ('Emma', 'NNP'), ('by', 'IN'), ('Jane', 'NNP'), ('Austen', 'NNP'), ('1816', 'CD'), (']', 'NNP'), ('VOLUME', 'NNP'), ('I', 'PRP'), ('CHAPTER', 'VBP')]\n"
          ]
        }
      ],
      "execution_count": 9
    },
    {
      "cell_type": "markdown",
      "id": "a419b899-4f81-4f76-8bfd-0347101baea7",
      "metadata": {
        "id": "a419b899-4f81-4f76-8bfd-0347101baea7"
      },
      "source": [
        "# Subtask 4: Stemming, Lemmatization, and Frequency Distribution\n",
        "**Instructions:**\n",
        "1. Stem each word token and print the original token, its POS tag, and its stem.\n",
        "2. Lemmatize each word token and print the original token and its lemma.\n",
        "3. Create a frequency distribution of the word tokens and plot the top 20 words."
      ]
    },
    {
      "cell_type": "code",
      "execution_count": 11,
      "id": "c807b23b-7179-4e76-8600-95572ef5a440",
      "metadata": {
        "colab": {
          "base_uri": "https://localhost:8080/",
          "height": 519
        },
        "id": "c807b23b-7179-4e76-8600-95572ef5a440",
        "outputId": "58ceb3b6-b007-4345-bf9e-d8738b3dfbd7"
      },
      "outputs": [
        {
          "output_type": "stream",
          "name": "stdout",
          "text": [
            "First 10 stems: [('[', 'NNS', '['), ('Emma', 'NNP', 'emma'), ('by', 'IN', 'by'), ('Jane', 'NNP', 'jane'), ('Austen', 'NNP', 'austen'), ('1816', 'CD', '1816'), (']', 'NNP', ']'), ('VOLUME', 'NNP', 'volum'), ('I', 'PRP', 'i'), ('CHAPTER', 'VBP', 'chapter')]\n",
            "First 10 lemmas: [('[', '['), ('Emma', 'Emma'), ('by', 'by'), ('Jane', 'Jane'), ('Austen', 'Austen'), ('1816', '1816'), (']', ']'), ('VOLUME', 'VOLUME'), ('I', 'I'), ('CHAPTER', 'CHAPTER')]\n"
          ]
        },
        {
          "output_type": "display_data",
          "data": {
            "text/plain": [
              "<Figure size 640x480 with 1 Axes>"
            ],
            "image/png": "[encoded data removed]"
          },
          "metadata": {}
        }
      ],
      "source": [
        "#1.\n",
        "stem = PorterStemmer()\n",
        "lemmatizer = WordNetLemmatizer()\n",
        "stems = [(word, pos, stemmer.stem(word)) for word, pos in pos_tags]\n",
        "print(f\"First 10 stems: {stems[:10]}\")\n",
        "\n",
        "#2.\n",
        "lemmas = [(word, lemmatizer.lemmatize(word)) for word in words]\n",
        "print(f\"First 10 lemmas: {lemmas[:10]}\")\n",
        "\n",
        "#3.\n",
        "frequencydist = FreqDist(words)\n",
        "frequencydist.plot(20, cumulative=False)\n",
        "plt.show()\n"
      ]
    }
  ],
  "metadata": {
    "kernelspec": {
      "display_name": "Python 3 (ipykernel)",
      "language": "python",
      "name": "python3"
    },
    "language_info": {
      "codemirror_mode": {
        "name": "ipython",
        "version": 3
      },
      "file_extension": ".py",
      "mimetype": "text/x-python",
      "name": "python",
      "nbconvert_exporter": "python",
      "pygments_lexer": "ipython3",
      "version": "3.10.14"
    },
    "colab": {
      "provenance": [],
      "include_colab_link": true
    }
  },
  "nbformat": 4,
  "nbformat_minor": 5
}